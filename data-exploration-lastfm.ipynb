{
 "cells": [
  {
   "cell_type": "code",
   "execution_count": 207,
   "metadata": {
    "collapsed": true
   },
   "outputs": [
    {
     "data": {
      "text/plain": "'/home/tduricic/Development/workspace/original-repos/GraphRec-WWW19'"
     },
     "execution_count": 207,
     "metadata": {},
     "output_type": "execute_result"
    }
   ],
   "source": [
    "from collections import defaultdict, Counter\n",
    "from tqdm.notebook import tqdm\n",
    "import networkx as nx\n",
    "import random\n",
    "import math\n",
    "import pickle\n",
    "import os\n",
    "import numpy as np\n",
    "import scipy\n",
    "import matplotlib.pyplot as plt\n",
    "import seaborn as sns\n",
    "import scipy.io as scio\n",
    "os.getcwd()"
   ]
  },
  {
   "cell_type": "code",
   "execution_count": 6,
   "outputs": [],
   "source": [
    "dataset = pickle.load(open(\"data/lastfm/data/dataset.pickle\",'rb'))"
   ],
   "metadata": {
    "collapsed": false,
    "pycharm": {
     "name": "#%%\n"
    }
   }
  },
  {
   "cell_type": "code",
   "execution_count": 16,
   "outputs": [
    {
     "data": {
      "text/plain": "dict_keys(['full', 'train', 'test', 'users', 'artist-tracks'])"
     },
     "execution_count": 16,
     "metadata": {},
     "output_type": "execute_result"
    }
   ],
   "source": [
    "dataset.keys()"
   ],
   "metadata": {
    "collapsed": false,
    "pycharm": {
     "name": "#%%\n"
    }
   }
  },
  {
   "cell_type": "code",
   "execution_count": 36,
   "outputs": [
    {
     "data": {
      "text/plain": "3307"
     },
     "execution_count": 36,
     "metadata": {},
     "output_type": "execute_result"
    }
   ],
   "source": [
    "len(dataset['users'])"
   ],
   "metadata": {
    "collapsed": false,
    "pycharm": {
     "name": "#%%\n"
    }
   }
  },
  {
   "cell_type": "code",
   "execution_count": 37,
   "outputs": [
    {
     "data": {
      "text/plain": "28540"
     },
     "execution_count": 37,
     "metadata": {},
     "output_type": "execute_result"
    }
   ],
   "source": [
    "len(dataset['artist-tracks'])"
   ],
   "metadata": {
    "collapsed": false,
    "pycharm": {
     "name": "#%%\n"
    }
   }
  },
  {
   "cell_type": "code",
   "execution_count": 170,
   "outputs": [
    {
     "data": {
      "text/plain": "HBox(children=(IntProgress(value=0, max=3018209), HTML(value='')))",
      "application/vnd.jupyter.widget-view+json": {
       "version_major": 2,
       "version_minor": 0,
       "model_id": "15974ff43b034ffe9f3242396201d074"
      }
     },
     "metadata": {},
     "output_type": "display_data"
    },
    {
     "name": "stdout",
     "output_type": "stream",
     "text": [
      "\n"
     ]
    },
    {
     "data": {
      "text/plain": "HBox(children=(IntProgress(value=0, max=3307), HTML(value='')))",
      "application/vnd.jupyter.widget-view+json": {
       "version_major": 2,
       "version_minor": 0,
       "model_id": "1e126fcb5f224df19ed9b484716bba74"
      }
     },
     "metadata": {},
     "output_type": "display_data"
    },
    {
     "name": "stdout",
     "output_type": "stream",
     "text": [
      "\n"
     ]
    }
   ],
   "source": [
    "def get_discrete_cdf(values):\n",
    "    # values = (values - np.min(values)) / (np.max(values) - np.min(values))\n",
    "    values_sort = np.sort(values)\n",
    "    values_sum = np.sum(values)\n",
    "\n",
    "    values_sums = []\n",
    "    cur_sum = 0\n",
    "    for it in values_sort:\n",
    "        cur_sum += it\n",
    "        values_sums.append(cur_sum)\n",
    "\n",
    "    cdf = [values_sums[np.searchsorted(values_sort, it)]/values_sum for it in values]\n",
    "    return values_sort, np.sort(cdf)\n",
    "\n",
    "def get_playcount_cdfs(values, cdfs):\n",
    "    playcount_cdfs = {}\n",
    "\n",
    "    for i in range(len(values)):\n",
    "        playcount_value = values[i]\n",
    "        playcount_cdf = cdfs[i]\n",
    "        if playcount_value not in playcount_cdfs:\n",
    "            playcount_cdfs[playcount_value] = []\n",
    "        playcount_cdfs[playcount_value].append(playcount_cdf)\n",
    "\n",
    "    return playcount_cdfs\n",
    "\n",
    "def convert_playcount_cdfs_to_ratings(playcount_cdfs):\n",
    "    playcount_ratings = {}\n",
    "    for playcount_value in playcount_cdfs:\n",
    "        playcount_ratings[playcount_value] = round(4 * (np.mean(playcount_cdfs[playcount_value])))\n",
    "    return playcount_ratings\n",
    "\n",
    "users = {v: k for k, v in dataset['users'].items()}\n",
    "\n",
    "tracks = {}\n",
    "for artist in dataset['artist-tracks']:\n",
    "    for track in dataset['artist-tracks'][artist]:\n",
    "        track_id = dataset['artist-tracks'][artist][track]\n",
    "        if track_id not in tracks:\n",
    "            tracks[track_id] = artist + ' - ' + track\n",
    "\n",
    "interaction_vectors = {}\n",
    "for edge in tqdm(dataset['full'].edges):\n",
    "    source = edge[0]\n",
    "    target = edge[1]\n",
    "    if source in users:\n",
    "        user_id = source\n",
    "    if source in tracks:\n",
    "        track_id = source\n",
    "    if target in users:\n",
    "        user_id = target\n",
    "    if target in tracks:\n",
    "        track_id = target\n",
    "    playcount = dataset['full'].edges[edge]['scrobbles']\n",
    "\n",
    "    if user_id not in interaction_vectors:\n",
    "        interaction_vectors[user_id] = {'track_ids' : [], 'playcounts' : []}\n",
    "    interaction_vectors[user_id]['track_ids'].append(track_id)\n",
    "    interaction_vectors[user_id]['playcounts'].append(playcount)\n",
    "\n",
    "for user_id in tqdm(interaction_vectors):\n",
    "    user_playcounts = np.array(interaction_vectors[user_id]['playcounts'])\n",
    "    sorted_playcounts, sorted_cdf_values = get_discrete_cdf(user_playcounts)\n",
    "    playcount_cdfs = get_playcount_cdfs(sorted_playcounts, sorted_cdf_values)\n",
    "    playcount_ratings = convert_playcount_cdfs_to_ratings(playcount_cdfs)\n",
    "    interaction_vectors[user_id]['playcount_ratings'] = playcount_ratings\n",
    "    interaction_vectors[user_id]['ratings'] = []\n",
    "    for playcount_value in user_playcounts:\n",
    "        interaction_vectors[user_id]['ratings'].append(playcount_ratings[playcount_value])"
   ],
   "metadata": {
    "collapsed": false,
    "pycharm": {
     "name": "#%%\n"
    }
   }
  },
  {
   "cell_type": "markdown",
   "source": [],
   "metadata": {
    "collapsed": false
   }
  },
  {
   "cell_type": "code",
   "execution_count": 172,
   "outputs": [
    {
     "data": {
      "text/plain": "HBox(children=(IntProgress(value=0, max=3307), HTML(value='')))",
      "application/vnd.jupyter.widget-view+json": {
       "version_major": 2,
       "version_minor": 0,
       "model_id": "edb8657b71de4b63b00227935ec6a459"
      }
     },
     "metadata": {},
     "output_type": "display_data"
    },
    {
     "name": "stdout",
     "output_type": "stream",
     "text": [
      "\n"
     ]
    }
   ],
   "source": [
    "user_item_ratings = []\n",
    "\n",
    "user_mappings = {}\n",
    "item_mappings = {}\n",
    "\n",
    "user_id_counter = 0\n",
    "item_id_counter = 0\n",
    "\n",
    "for user_id in tqdm(interaction_vectors):\n",
    "    if user_id not in user_mappings:\n",
    "        user_mappings[user_id] = user_id_counter\n",
    "        user_id_counter += 1\n",
    "\n",
    "    for i in range(len(interaction_vectors[user_id]['track_ids'])):\n",
    "        track_id = interaction_vectors[user_id]['track_ids'][i]\n",
    "        if track_id not in item_mappings:\n",
    "            item_mappings[track_id] = item_id_counter\n",
    "            item_id_counter += 1\n",
    "\n",
    "        user_id_mapping = user_mappings[user_id]\n",
    "        item_id_mapping = item_mappings[track_id]\n",
    "        rating = interaction_vectors[user_id]['ratings'][i]\n",
    "\n",
    "        user_item_ratings.append((user_id_mapping, item_id_mapping, rating))"
   ],
   "metadata": {
    "collapsed": false,
    "pycharm": {
     "name": "#%%\n"
    }
   }
  },
  {
   "cell_type": "code",
   "execution_count": 178,
   "outputs": [
    {
     "data": {
      "text/plain": "{'Enrique-': 0,\n 'EduardoMol': 1,\n 'DemetriDyslexik': 2,\n 'unicef41': 3,\n 'losena': 4,\n 'jpw130855': 5,\n 'felipemusky': 6,\n 'felipe_89': 7,\n 'camiloei': 8,\n 'EriF_JR': 9,\n 'Backstage_Rock': 10,\n 'nirvaana_': 11,\n 'miladi': 12,\n 'djchaco': 13,\n 'dizzydjc': 14,\n 'conversemanman': 15,\n 'Yavedu': 16,\n 'Param0rexx_': 17,\n 'Jeff_Serozini': 18,\n 'JCCAKES': 19,\n 'EnricoFranchi': 20,\n 'Ehsandiary': 21,\n 'Creepsnight': 22,\n 'zero-inch': 23,\n 'violaceousest': 24,\n 'the_edster': 25,\n 'maikcuritiba': 26,\n 'imyyy': 27,\n 'chocobooo': 28,\n 'c0rts': 29,\n 'barkbarkdisco': 30,\n 'WichitaQ': 31,\n 'TheRootsLife': 32,\n 'LeoMetal965': 33,\n 'waltercabellon': 34,\n 'pellitero': 35,\n 'masud_saedi': 36,\n 'corky64': 37,\n 'alinzainescu': 38,\n 'Vintovka': 39,\n 'VRec': 40,\n 'STxza': 41,\n 'NaturalStudio': 42,\n 'Lain12': 43,\n 'KarenValensi': 44,\n 'DJGabster': 45,\n 'ASTOKALOSOU': 46,\n 'thunder__': 47,\n 'loohop15': 48,\n 'kyliesaysparty': 49,\n 'amakiell': 50,\n 'aemea': 51,\n 'Tott_Di': 52,\n 'Nihilistic23': 53,\n 'MarchuSykes': 54,\n 'METALMASTIL': 55,\n 'scorpos': 56,\n 'p_etar': 57,\n 'jware73': 58,\n 'granadatheater': 59,\n 'ernsthemingway': 60,\n 'HEN30': 61,\n 'DEISIS74': 62,\n 'BottaBass': 63,\n 'seviko': 64,\n 'molkitabanks': 65,\n 'lter__Impius': 66,\n 'lowlander': 67,\n 'karnickel': 68,\n 'Hayden59': 69,\n 'Dark-Devourer': 70,\n 'CJ155': 71,\n 'ronsjunior': 72,\n 'northernbeach': 73,\n 'lucasfontoura': 74,\n 'lucacoc': 75,\n 'ewrim': 76,\n 'bolapucc': 77,\n 'acrylicstyle': 78,\n 'LatinChillFox': 79,\n 'CBNetRadio': 80,\n 'Ataraxiainc': 81,\n 'rocketsmusik': 82,\n 'oyveychris': 83,\n 'mr_tasty': 84,\n 'mirijoijo': 85,\n 'karpfenhai': 86,\n 'd_malafeeva': 87,\n 'criss90': 88,\n 'bobo9390': 89,\n 'biochip': 90,\n 'odioilcarcere': 91,\n 'jwayc': 92,\n 'jatemtudoaqui': 93,\n 'ironarmatom': 94,\n 'imaryannosaurus': 95,\n 'XpaTriAteWaITS': 96,\n 'Tato_H': 97,\n 'Novi_sad': 98,\n 'Los_T': 99,\n 'Haibane': 100,\n 'DanielSilva_': 101,\n 'leuomartins': 102,\n 'elephantparadee': 103,\n 'dcbr': 104,\n 'Sgt_Cruz': 105,\n 'Sanndra': 106,\n 'Pickoleo': 107,\n 'PedroMarin12PM': 108,\n 'Furik': 109,\n 'FootVillage': 110,\n 'BruecknerSound': 111,\n 'Amber-Evil': 112,\n 'xbravurax': 113,\n 'lionel40': 114,\n 'guilhermeqq': 115,\n 'ggh01': 116,\n 'dw_lordzero': 117,\n 'HeMont': 118,\n 'venomblackviper': 119,\n 'sitebbiw': 120,\n 'molloy_hh': 121,\n 'malditodito': 122,\n 'kastin52': 123,\n 'fuckingandroid': 124,\n 'crstflln': 125,\n 'crimsonivymusic': 126,\n 'by_starla': 127,\n 'Thewagnerlogic': 128,\n 'SweetJane2009': 129,\n 'NargesM': 130,\n 'JCCiace': 131,\n 'HumanNatureBoy': 132,\n 'FloozieBand': 133,\n 'wolkanca': 134,\n 'pihkal3000': 135,\n 'pdelucchi': 136,\n 'naomijade': 137,\n 'mrhittingbottom': 138,\n 'mogenicwolf': 139,\n 'l_mina_l': 140,\n 'fruskio': 141,\n 'der_nico': 142,\n 'danielbenflos': 143,\n 'comauk': 144,\n 'brucecheriff': 145,\n 'brittnik': 146,\n 'auto_reverse': 147,\n 'atmoravi': 148,\n 'Spinundrum': 149,\n 'SaeedeNRY': 150,\n 'Gabriel_Falcao': 151,\n 'EchEm': 152,\n 'DeepDayDiver': 153,\n 'Danimod': 154,\n 'AmazinElena': 155,\n 'viviball': 156,\n 'thedarksun': 157,\n 'sinmachine': 158,\n 'ramin_bbs': 159,\n 'puzzl3': 160,\n 'prog-jester': 161,\n 'onlyleticia': 162,\n 'lloopy93': 163,\n 'iDreaM_': 164,\n 'eclectismo': 165,\n 'abc_Maria': 166,\n 'SofiaAtaraxica': 167,\n 'Seshumaru': 168,\n 'Renato07': 169,\n 'Paulodemoc': 170,\n 'MsMelo': 171,\n 'KatzM': 172,\n 'Da_Real_Deal': 173,\n 'shaolin86': 174,\n 'nataliston': 175,\n 'lastuniform': 176,\n 'ionutdaniel': 177,\n 'fernando-borx': 178,\n 'emehacheele': 179,\n 'beautiful_guilt': 180,\n 'Unriiipe': 181,\n 'PredatorDM': 182,\n 'Mudduck': 183,\n 'MrZebra': 184,\n 'sofadley': 185,\n 'olmir': 186,\n 'liniker_guns': 187,\n 'krisAxe': 188,\n 'eatyourownears': 189,\n 'caioscheleger': 190,\n 'ananixon': 191,\n 'WastedVelvet': 192,\n 'OpusNeurae': 193,\n 'MICOL1993': 194,\n 'DIABOLICALDEITY': 195,\n 'xylophonekiddd': 196,\n 'surgeon': 197,\n 'slushie360': 198,\n 'liviamouraq': 199,\n 'jonpwnsu': 200,\n 'jericho667': 201,\n 'ferihelper': 202,\n 'elementos': 203,\n 'despotalan': 204,\n 'danteconrad14': 205,\n 'cookieduff': 206,\n 'coloava': 207,\n 'bob-johnson': 208,\n 'Shatohin': 209,\n 'MoogleFan': 210,\n 'Mind_Booster': 211,\n 'MarryToNight': 212,\n 'Juha-Back': 213,\n 'FMW303': 214,\n 'Dinosaurprnx3': 215,\n 'Dereleaked': 216,\n 'BestiaraMist': 217,\n 'A1enochka': 218,\n '8stalker': 219,\n 'pc_heavensalie': 220,\n 'materileati': 221,\n 'askelly1984': 222,\n 'Trautkidd': 223,\n 'Hardcore_Badass': 224,\n 'Doberman27': 225,\n 'symmsyndrome': 226,\n 'sexypirate': 227,\n 'ronaldpontosilv': 228,\n 'nnids4': 229,\n 'danyzinhalee_ev': 230,\n 'brucalheiros': 231,\n 'SengokuNoMaou': 232,\n 'Entea8': 233,\n 'EmilyCombs': 234,\n 'somerset_1': 235,\n 'rhanabreu': 236,\n 'nonelikeme': 237,\n 'marilink': 238,\n 'marcusdejean': 239,\n 'doisbarcos': 240,\n 'cursed_angel': 241,\n 'VGoRiLLaZ': 242,\n 'Tswok': 243,\n 'Starshinerock': 244,\n 'Masamune3570': 245,\n 'Alberto1296': 246,\n 'owai': 247,\n 'newyorkgangsta': 248,\n 'mrallaaan': 249,\n 'grafonola': 250,\n 'fr3za': 251,\n 'daywithbluesky': 252,\n 'Jen420': 253,\n 'samuelantunes': 254,\n 'riverside6970': 255,\n 'pawpawt': 256,\n 'niloofarrrr': 257,\n 'luan_manson': 258,\n 'josecharts': 259,\n 'gusdrinks': 260,\n 'caracho-musik': 261,\n 'Toodalimit': 262,\n 'The_Tempter': 263,\n 'Katruk': 264,\n 'BluMarTen': 265,\n 'BamBus3000': 266,\n 'pqpmari_9': 267,\n 'neesh': 268,\n 'jackfg': 269,\n 'irotas': 270,\n 'dopzihon': 271,\n 'Vasilina89': 272,\n 'Thiago_All': 273,\n 'Rafaau': 274,\n 'KenHebert': 275,\n 'InASafePlace': 276,\n 'FuturaDLX': 277,\n 'Chadipoo': 278,\n 'Allan_Oliveira': 279,\n 'riyork': 280,\n 'reynayar': 281,\n 'francoisweyer': 282,\n 'discotequedude': 283,\n 'alfancur': 284,\n 'ThePatriotsPwn': 285,\n 'Nilooloofar': 286,\n 'MelloSunshine': 287,\n 'Frosynda': 288,\n 'Frico-Whiskey09': 289,\n 'EnildoSebastian': 290,\n 'ElQuerido92': 291,\n 'Bass331': 292,\n 'AlanBez': 293,\n 'mimimistery': 294,\n 'keshvary': 295,\n 'dannimad': 296,\n 'chewingonfoil': 297,\n 'brivsar': 298,\n 'Souki_music': 299,\n 'Lady_in_rock': 300,\n 'Greentek': 301,\n 'DeathCab4Sam': 302,\n 'CiNSaLaBiN': 303,\n 'swee-test': 304,\n 'ramukyz': 305,\n 'lowdjo': 306,\n 'd-a-n-i-l-o': 307,\n 'cranium_case': 308,\n 'countchockula': 309,\n 'boxofbirds': 310,\n 'RandyB1961': 311,\n 'MainiSorri': 312,\n 'downhand': 313,\n 'danielakrocks': 314,\n 'alonzodraga': 315,\n 'VelvetRope1981': 316,\n 'Neuropunks': 317,\n 'NathanaelSilva': 318,\n 'Cocaine_Barney': 319,\n 'AlxSavage': 320,\n 'theyefan': 321,\n 'srtalyciouss2': 322,\n 'pdvmorris': 323,\n 'joshblalock': 324,\n 'eronneto': 325,\n 'callmekade': 326,\n 'anddomingos': 327,\n 'Shy-Guy': 328,\n 'MAwesomeMixtape': 329,\n 'riotDollGrrrl': 330,\n 'prozent': 331,\n 'jeffow': 332,\n 'herome87': 333,\n 'fabianvarela': 334,\n 'Ekko-Utrecht': 335,\n 'Dee_Pedro': 336,\n 'Cloudspotter': 337,\n 'losthighways': 338,\n 'foover_barker': 339,\n 'carassoftheodd': 340,\n 'Sex_Murder_Art': 341,\n 'RuyPacheco': 342,\n 'MissHyperactive': 343,\n 'Dispelbot67': 344,\n 'Detroitcat': 345,\n 'ArthurCormorant': 346,\n '013popcentrum': 347,\n 'viitormartins': 348,\n 'rafaellosso': 349,\n 'pez-pepepepe': 350,\n 'pan182': 351,\n 'merthg': 352,\n 'hansvrijmoed': 353,\n 'but_I': 354,\n 'bochka69': 355,\n 'SiRoOs3pAnD': 356,\n 'Peterpop': 357,\n 'Ludatong': 358,\n 'Elekrisiti': 359,\n 'weebys': 360,\n 'lovelylauren': 361,\n 'brokenD': 362,\n 'brettpetersel': 363,\n 'bitchimspecial': 364,\n 'PHANATICZ': 365,\n 'HighSkyRider': 366,\n 'HCTotorro': 367,\n 'FBlackstone': 368,\n 'ElkeSchmitter': 369,\n 'misterjt': 370,\n 'mactrekker': 371,\n 'ippo-01': 372,\n 'emrys94': 373,\n 'degiovanamoroso': 374,\n 'SgtPeppers-bar': 375,\n 'LittleKim2009': 376,\n 'IngridTrance': 377,\n 'Doorchaser': 378,\n 'Davidccg1397': 379,\n 'totemajazz': 380,\n 'tomcaserta': 381,\n 'nmgnmusic': 382,\n 'nemanja987': 383,\n 'jayhawkxxx': 384,\n 'elnazo': 385,\n 'dennyjoynz': 386,\n 'azar_valo': 387,\n 'abunono': 388,\n 'Le-Schtalien': 389,\n 'LaPiera': 390,\n 'KimJakab': 391,\n 'Julieerock': 392,\n 'tacvbo': 393,\n 'rawwwwrrr69': 394,\n 'lihei': 395,\n 'leticiamedeiros': 396,\n 'juliet_nikki': 397,\n 'dualechelon': 398,\n 'chocoman_895': 399,\n 'business_girl': 400,\n 'alihaa': 401,\n 'SiNgUlIbRiUm': 402,\n 'Atzedv': 403,\n 'waLe_': 404,\n 'renatopborges': 405,\n 'osornios': 406,\n 'oink89': 407,\n 'manfrys': 408,\n 'imalreadydeadx': 409,\n 'destinymn': 410,\n 'delininbirii': 411,\n 'daryldarko': 412,\n 'darkufo': 413,\n 'azrael2393': 414,\n 'OneOfThoseGhost': 415,\n 'Moon_Drifter76': 416,\n 'Faeerie': 417,\n 'CohenXPboWie_': 418,\n 'Aomada': 419,\n 'AndreiMenegaly': 420,\n 'ALHosey1': 421,\n 'zehradoruk': 422,\n 'xylocaina': 423,\n 'toutless': 424,\n 'mellemusic': 425,\n 'lucy1379': 426,\n 'jamesbrunk': 427,\n 'hawkledge': 428,\n 'gastaum': 429,\n 'belgradonja': 430,\n 'ashleyPWNx3': 431,\n 'Sunzy': 432,\n 'PriwRocke': 433,\n 'MyHeartofHearts': 434,\n 'MRK_WEST': 435,\n 'Lil_tigER_': 436,\n 'LauraOfSuburbia': 437,\n 'Juddieland': 438,\n 'Afront': 439,\n 'tranceandre': 440,\n 'rodneyorpheus': 441,\n 'ok194': 442,\n 'nur_': 443,\n 'fabih': 444,\n 'dyingromance': 445,\n 'dusk_tildawN': 446,\n 'Wireless_Beaver': 447,\n 'Raphael_Ramone': 448,\n 'RaphMike': 449,\n 'BioNeon': 450,\n '-Pleq-': 451,\n 'zx10r07': 452,\n 'wongc': 453,\n 'neonheartburn': 454,\n 'lilianpriscilla': 455,\n 'fakesecrets': 456,\n 'editoredit': 457,\n 'drowndolly': 458,\n 'alpn00': 459,\n 'alegansa': 460,\n 'Wrongdecade13': 461,\n 'Michikawa': 462,\n 'MaryVanKiller': 463,\n 'Elena_Skopje': 464,\n 'Ambianx': 465,\n 'yuribello': 466,\n 'thisisnotjhall': 467,\n 'pixelfixer': 468,\n 'misterpollo': 469,\n 'martinmono': 470,\n 'maquillaje': 471,\n 'mandy_core': 472,\n 'juhpecker': 473,\n 'johnnyboy999': 474,\n 'etcetal': 475,\n 'castellano_loco': 476,\n 'caro_vian': 477,\n 'RockInChains': 478,\n 'LisMaluf': 479,\n 'FijneWIET': 480,\n 'FaustoRocks': 481,\n 'Celesta-Darkide': 482,\n 'tashy666': 483,\n 'servatio': 484,\n 'oskarsarco': 485,\n 'musiikkionelo': 486,\n 'mralfa': 487,\n 'fuckthesurface': 488,\n 'deusil': 489,\n 'click101': 490,\n 'RafaelDivoz': 491,\n 'Myrack': 492,\n 'Maynardoh': 493,\n 'Kalpamantra': 494,\n 'Just-x-Sarah': 495,\n 'JNellz': 496,\n 'Hixaga': 497,\n 'AlisherYakupov': 498,\n 'wtiidavid': 499,\n 'thyateirawarior': 500,\n 'taker919': 501,\n 'pauldraper': 502,\n 'pauladaunt': 503,\n 'niceguyanthony': 504,\n 'lilalways': 505,\n 'kwayne16': 506,\n 'kevthepoet': 507,\n 'hoopedup': 508,\n 'depolle': 509,\n 'camoril': 510,\n 'brunofrika': 511,\n 'Under_Radar_Mag': 512,\n 'UglyOrganist117': 513,\n 'Robenna10': 514,\n 'PrivatEye': 515,\n 'NeonJunks': 516,\n 'Karengallego': 517,\n 'JackKitty': 518,\n 'H1108': 519,\n 'Elysiumm': 520,\n 'Arctiicz': 521,\n 'revolusongs': 522,\n 'proggirl': 523,\n 'litl3misstrange': 524,\n 'kaplanseren': 525,\n 'jesyanne': 526,\n 'eatliz': 527,\n 'amnessiapl': 528,\n 'MoeinDead': 529,\n 'LaisDuque': 530,\n 'FrontLawnMower': 531,\n 'venator': 532,\n 'miimshiin': 533,\n 'liago0sh': 534,\n 'leeostd': 535,\n 'kratkoijasno': 536,\n 'garotasemfio': 537,\n 'daxvondrac': 538,\n 'daniel_dgt': 539,\n 'conoPOSTROCKo': 540,\n 'andresgualdron': 541,\n 'Spacelord1978': 542,\n 'LisaVee1976': 543,\n 'HIRAXOfficial': 544,\n 'CesarHercul': 545,\n 'Absurd_Maers': 546,\n 'zoarces': 547,\n 'tecoapple': 548,\n 'natal_rock': 549,\n 'luxuryluke': 550,\n 'lagartija_': 551,\n 'indieriviera': 552,\n 'ghargula': 553,\n 'fennyfee': 554,\n 'christin_e': 555,\n 'baranyiz': 556,\n 'aroger': 557,\n 'android1985': 558,\n 'Weirdomusic': 559,\n 'S_Dot': 560,\n 'PoshAttitude': 561,\n 'MusicByG0G0': 562,\n 'KConn3711': 563,\n 'Fux82': 564,\n 'Cet10': 565,\n 'AJ2002': 566,\n 'walkalonewalk': 567,\n 'tdk60': 568,\n 'tacubane': 569,\n 'riotsqrrrl': 570,\n 'noden67': 571,\n 'natiely': 572,\n 'mayomayomayo': 573,\n 'llDarkLightll': 574,\n 'leroijonesjr': 575,\n 'ialves': 576,\n 'harijano': 577,\n 'hamlet666olsdal': 578,\n 'gsp_xer0x': 579,\n 'filipemacedo': 580,\n 'elektrocat_ar': 581,\n 'Stankata': 582,\n 'RaggaBeatz': 583,\n 'MrsJimMorrison': 584,\n 'Francis7858': 585,\n 'Criznittle': 586,\n 'Bettusso': 587,\n 'lupuskwu': 588,\n 'daviddoh': 589,\n 'cagla4lik': 590,\n 'RogeriaMartins': 591,\n 'Popicn': 592,\n 'Nirka9': 593,\n 'Nerviosismo': 594,\n 'MastersonPit': 595,\n 'CEZARY-GAPIK': 596,\n 'size32': 597,\n 'pellebordeaux': 598,\n 'ox2': 599,\n 'o0nefertem0o': 600,\n 'jensyao': 601,\n 'devincastro': 602,\n 'accuracity': 603,\n 'ScreaminJay': 604,\n 'Bossquitoo': 605,\n '7Millionaire7': 606,\n 'zamzara666': 607,\n 'theduty2': 608,\n 'keygen': 609,\n 'iMurk': 610,\n 'francescolupo7': 611,\n 'byglorious': 612,\n 'archiepowell': 613,\n 'Voxefx': 614,\n 'TheMotionSick': 615,\n 'RobertGmb': 616,\n 'MrsToxica': 617,\n 'DrMersey': 618,\n 'CodigCesar': 619,\n 'sweatbloodtears': 620,\n 'off_topic': 621,\n 'nooneastern': 622,\n 'niksilva': 623,\n 'nikolatodi': 624,\n 'lucanhmaggot': 625,\n 'logosrec': 626,\n 'kundap': 627,\n 'jajabor150': 628,\n 'jailson15': 629,\n 'fab2dijon': 630,\n 'dseireparamaum': 631,\n 'afshinm': 632,\n 'STFUS': 633,\n 'RetoF': 634,\n 'Desii6': 635,\n '2biqm0rs3da': 636,\n 'uanliro': 637,\n 'sydbarrett2010': 638,\n 'sean_moore': 639,\n 'my____home': 640,\n 'monaaaaaa': 641,\n 'islakkarga': 642,\n 'betogrinder': 643,\n 'angela_c': 644,\n 'andressaortiz': 645,\n 'Tarkovsky86': 646,\n 'SullenlaMaga': 647,\n 'Samma35': 648,\n 'RickRobertsKYOK': 649,\n 'Quintenito': 650,\n 'Poker__Face': 651,\n 'PallomaMetal': 652,\n 'D--Soul': 653,\n 'ChrisInChains': 654,\n 'sathyabhat': 655,\n 'opeth_syndrome': 656,\n 'devinlindseyx3': 657,\n 'canusta': 658,\n 'andrecavalheiro': 659,\n 'Victor_Orb': 660,\n 'Rockastico': 661,\n 'MotorolaES': 662,\n 'LOVE8Bella': 663,\n 'Devils1674': 664,\n 'Atilla1000': 665,\n 'silviob': 666,\n 'phocks': 667,\n 'nandoluc': 668,\n 'musiXmode': 669,\n 'montagissad': 670,\n 'miss_stoneheart': 671,\n 'micky-only': 672,\n 'dietnam': 673,\n 'chaoszac': 674,\n 'casadivetro': 675,\n 'adez23': 676,\n 'RoelJewel': 677,\n 'RebekaSamyrra': 678,\n 'Ed-Guitarr': 679,\n 'DreSteeZ': 680,\n 'Babs_05': 681,\n 'Akifemre': 682,\n 'pablogcg1': 683,\n 'ogzcn': 684,\n 'nick_honest': 685,\n 'liveforever-': 686,\n 'imozzi': 687,\n 'heennaa': 688,\n 'fredleal': 689,\n 'dirtybeatsinc': 690,\n 'davidrules04': 691,\n 'UeberseeRecords': 692,\n 'Oscar_K': 693,\n 'MarcoWeirdOh': 694,\n 'Lara2305': 695,\n 'Alienaqtor': 696,\n 'yassef': 697,\n 'yasminmedeiros': 698,\n 'stefigno': 699,\n 'silverlage': 700,\n 'rockminutsoup': 701,\n 'revfrank4': 702,\n 'qburns': 703,\n 'mostlylisa': 704,\n 'lubita77': 705,\n 'lllmatlc': 706,\n 'jake74': 707,\n 'gothico72': 708,\n 'estatique': 709,\n 'daddyrho': 710,\n 'antozotoole': 711,\n 'Wandalox': 712,\n 'TiteTiti': 713,\n 'Tecfan': 714,\n 'Nottouch': 715,\n 'Listener2m': 716,\n 'Diruhi': 717,\n 'Counting_UFOs': 718,\n '-Huk-': 719,\n 'thiagoricieri': 720,\n 'peleleman1': 721,\n 'mezmariz': 722,\n 'lagunabeachlive': 723,\n 'kalanov': 724,\n 'jvetrau': 725,\n 'jose14906': 726,\n 'dimusics': 727,\n 'demetripolitis': 728,\n 'abvn': 729,\n 'Sobakasu_': 730,\n 'Nikola_F_O_S': 731,\n 'Linn_Li_Li': 732,\n 'Lady_Geliebte': 733,\n 'Isera': 734,\n 'Galaat': 735,\n 'Daemith': 736,\n 'Blocker00': 737,\n 'Beppi-Size': 738,\n '1gothicgurl': 739,\n 'supermarsu': 740,\n 'sobhan': 741,\n 'saeed_eelboy': 742,\n 'roccowelsh': 743,\n 'radiocicletta': 744,\n 'pintailmusic': 745,\n 'nDroae': 746,\n 'mitaz': 747,\n 'mariod90': 748,\n 'karmakord': 749,\n 'johnnycool2002': 750,\n 'flyawayamanda': 751,\n 'ecosfalsos': 752,\n 'blueerain': 753,\n 'MelankoliaGoth': 754,\n 'Groovemine': 755,\n 'ETEPETETE_': 756,\n 'DominoRecords': 757,\n 'Cesare__Borgia': 758,\n 'Bangerboy66': 759,\n 'sekenz': 760,\n 'nerotunes': 761,\n 'mooral': 762,\n 'matthewayne': 763,\n 'marimurray': 764,\n 'margann': 765,\n 'manli651': 766,\n 'idasta': 767,\n 'dj-mulher': 768,\n 'ashleyrobb': 769,\n 'amphibian87': 770,\n 'WindUpBird203': 771,\n 'Suzi_A7X': 772,\n 'Spinafro': 773,\n 'RJ_mymusic': 774,\n 'Pablo213': 775,\n 'Music101_DAC': 776,\n 'LucyMagrela': 777,\n 'Lipashx': 778,\n 'Birsencita': 779,\n 'AlejandrhoRojas': 780,\n 'sonerY': 781,\n 'sistemanervoso': 782,\n 'princessbreath': 783,\n 'eletralenuvole': 784,\n 'ejflavors': 785,\n 'deedeeslim': 786,\n 'danydaniella': 787,\n 'bellguer': 788,\n 'adamlopiano': 789,\n 'SimplyNJ': 790,\n 'ROKERSBAGERA': 791,\n 'HugoSls': 792,\n 'Anastasiya1024': 793,\n 'wlazinha': 794,\n 'reviewdesign': 795,\n 'razxca': 796,\n 'rayzrrayner': 797,\n 'ninjato': 798,\n 'memolememolas': 799,\n 'losgatos': 800,\n 'heartscore': 801,\n 'dubsurfer': 802,\n 'backlightmail': 803,\n 'arejay86': 804,\n 'al3x_86tuxin': 805,\n 'ShaneHxC': 806,\n 'Louder_radio': 807,\n 'LiVerPool74': 808,\n 'Kandyman_vip': 809,\n 'JK1': 810,\n 'IZAHband': 811,\n 'GOMRecords': 812,\n 'CrySTALcrafter': 813,\n 'sha-wu': 814,\n 'santahelena': 815,\n 'redorange': 816,\n 'rasoulk': 817,\n 'phredspin': 818,\n 'phillipnutt': 819,\n 'nerocristallo_': 820,\n 'metheoro': 821,\n 'maJestic_fairY': 822,\n 'joaopedroramos': 823,\n 'iannai29': 824,\n 'grapowski': 825,\n 'goodgreatgrand': 826,\n 'good_bone': 827,\n 'desperatebeat': 828,\n 'collylogic': 829,\n 'a---a': 830,\n 'TheOrigSndtrk': 831,\n 'TaraEckersberg': 832,\n 'Helltoshii': 833,\n 'Fukinghustla': 834,\n 'worldofniwi': 835,\n 'sshaghayegh': 836,\n 'nima643': 837,\n 'musicdish': 838,\n 'merzbauptvu': 839,\n 'lamazone': 840,\n 'kingoftheloser': 841,\n 'gullygabs': 842,\n 'farzam_hs': 843,\n 'dharma1832': 844,\n 'TUMBLEWEAVE': 845,\n 'RadioLynchtown': 846,\n 'Knight_of_Death': 847,\n 'JolKeen': 848,\n 'Iranyela': 849,\n 'HarukaEX': 850,\n 'Chacandra': 851,\n 'Bandit72': 852,\n 'thiarles': 853,\n 'sunsyain': 854,\n 'slowlorismusic': 855,\n 'rafaelchan': 856,\n 'purparachita': 857,\n 'posadboy': 858,\n 'notnicoletaylor': 859,\n 'niceguydave': 860,\n 'morrow8454': 861,\n 'lewzera2': 862,\n 'hittingrefresh': 863,\n 'dimitrisR': 864,\n 'Rodmetalhead': 865,\n 'IamRuff': 866,\n 'IBlackMambAI': 867,\n 'Grausamkeit89': 868,\n 'Gnessie': 869,\n 'Fossilhuntress': 870,\n 'BeetsAndBears': 871,\n 'Battle3': 872,\n 'terick_g': 873,\n 'pol_noir': 874,\n 'omgphone': 875,\n 'nemrodyantra01': 876,\n 'last4sine': 877,\n 'jrgore': 878,\n 'hiperfenomeno': 879,\n 'd1s0rder': 880,\n 'ccostani': 881,\n 'babee': 882,\n 'akekepa': 883,\n 'Substantial': 884,\n 'CTORR0314': 885,\n 'BadBoysFromMars': 886,\n 'AllyWonderland': 887,\n 'weusedtodance': 888,\n 'silvua': 889,\n 'ronaldo-souza': 890,\n 'oylumtanis': 891,\n 'nunomgl': 892,\n 'logvynenko': 893,\n 'katgrrl927': 894,\n 'javadagha': 895,\n 'in90sec': 896,\n 'giozz': 897,\n 'colorradio': 898,\n 'TheBGoodes': 899,\n 'Officialswitch': 900,\n 'Killerclown58': 901,\n 'FreeMHZ': 902,\n 'Ernesto505': 903,\n 'DisturbanceAD': 904,\n 'Area27': 905,\n 'roslanaziz': 906,\n 'maewe': 907,\n 'luiisluiis': 908,\n 'hun_yeti': 909,\n 'faqfestival': 910,\n 'cfelker': 911,\n 'bbc_zanelowe': 912,\n 'astridavila': 913,\n 'andynus': 914,\n 'RoCkON_19': 915,\n 'Raillson': 916,\n 'Nekosama86': 917,\n 'pRiceless_NeiL_': 918,\n 'MikeyGuitar': 919,\n 'jonpierce': 920,\n 'Leferth': 921,\n 'vzxt6t': 922,\n 'thenightlightuk': 923,\n 'omenik': 924,\n 'straywebsurfer': 925,\n 'sacrografics': 926,\n 'paulimrocha': 927,\n 'luiza_prado': 928,\n 'ihate_everyone': 929,\n 'holyroarrecords': 930,\n 'heybobnanna': 931,\n 'dEstinYs_Eyes': 932,\n 'cesarovalle': 933,\n 'SacredPray': 934,\n 'SPORCO': 935,\n 'Parisa_iw': 936,\n 'Mokami': 937,\n 'LeChatRave': 938,\n 'Hypnotics': 939,\n 'FelipeSoares12': 940,\n 'DaNNY11713': 941,\n 'Abstrakt95': 942,\n 'zbamboo': 943,\n 'rokomafia': 944,\n 'martagodinho': 945,\n 'johnTMcNeill': 946,\n 'ebarrera': 947,\n 'caiocws': 948,\n 'bruno_c': 949,\n 'bekazeka': 950,\n 'backupthetruck': 951,\n 'alt41r': 952,\n 'abeggi': 953,\n 'SergiodeHelena': 954,\n 'Rubentvc': 955,\n 'MrPred': 956,\n 'ELOY': 957,\n 'Crystalseth': 958,\n 'BenWard': 959,\n '20daysin': 960,\n 'yohelga': 961,\n 'singingbicycle': 962,\n 'r-h': 963,\n 'peuoh': 964,\n 'ineedmoremusic': 965,\n 'driesvanbedaf': 966,\n 'boyarmobposse': 967,\n 'betrazivis': 968,\n 'accentosvedese': 969,\n 'PulpJunkie': 970,\n 'PinkFloydMan': 971,\n 'Nonima': 972,\n 'LyricalxER': 973,\n 'HealeyIsland': 974,\n 'Funky___Monkey': 975,\n 'FloydianFreak': 976,\n 'taitibob': 977,\n 'shayan360': 978,\n 'runout_groove': 979,\n 'nokdeez': 980,\n 'metaconscious': 981,\n 'mamazuki': 982,\n 'malcs64': 983,\n 'loganx': 984,\n 'eardrums': 985,\n 'delete': 986,\n 'davidedaps': 987,\n 'araujo921': 988,\n 'SoulOfTheCity': 989,\n 'Kluisteraar': 990,\n 'HeikeMatthiesen': 991,\n 'Alexpsych': 992,\n 'yeahzz14': 993,\n 'yaghma': 994,\n 'tommybytes': 995,\n 'stevenkeys': 996,\n 'silas216': 997,\n 'shirinooo': 998,\n 'nimanio': 999,\n ...}"
     },
     "execution_count": 178,
     "metadata": {},
     "output_type": "execute_result"
    }
   ],
   "source": [
    "dataset['users']"
   ],
   "metadata": {
    "collapsed": false,
    "pycharm": {
     "name": "#%%\n"
    }
   }
  },
  {
   "cell_type": "code",
   "execution_count": 194,
   "outputs": [],
   "source": [
    "original_graph_nodes = {}\n",
    "\n",
    "for line in open('data/lastfm/lastfm_sn/lastfm.nodes', 'r').readlines():\n",
    "    tokens = line.split()\n",
    "    original_user_mapping = int(tokens[0])\n",
    "    username = tokens[1]\n",
    "    original_graph_nodes[original_user_mapping] = username\n",
    "\n",
    "final_social_edges = []\n",
    "for line in open('data/lastfm/lastfm_sn/lastfm.edges', 'r').readlines():\n",
    "    tokens = line.split()\n",
    "    original_user_mapping_source = int(tokens[0])\n",
    "    original_user_mapping_target = int(tokens[1])\n",
    "\n",
    "    username_source = original_graph_nodes[original_user_mapping_source]\n",
    "    username_target = original_graph_nodes[original_user_mapping_target]\n",
    "\n",
    "    if username_source in dataset['users'] and username_target in dataset['users']:\n",
    "        source_user_id = dataset['users'][username_source]\n",
    "        target_user_id = dataset['users'][username_target]\n",
    "\n",
    "        source_user_mapping = user_mappings[source_user_id]\n",
    "        target_user_mapping = user_mappings[target_user_id]\n",
    "\n",
    "        final_social_edges.append((source_user_mapping, target_user_mapping))\n",
    "        final_social_edges.append((target_user_mapping, source_user_mapping))"
   ],
   "metadata": {
    "collapsed": false,
    "pycharm": {
     "name": "#%%\n"
    }
   }
  },
  {
   "cell_type": "code",
   "execution_count": 201,
   "outputs": [
    {
     "data": {
      "text/plain": "array([[2835, 1552],\n       [1426, 1418],\n       [1801,  541],\n       ...,\n       [2867,  336],\n       [ 697, 1767],\n       [ 590, 1146]])"
     },
     "execution_count": 201,
     "metadata": {},
     "output_type": "execute_result"
    }
   ],
   "source": [
    "trustnetwork = np.array(final_social_edges, dtype=int)"
   ],
   "metadata": {
    "collapsed": false,
    "pycharm": {
     "name": "#%%\n"
    }
   }
  },
  {
   "cell_type": "code",
   "execution_count": 204,
   "outputs": [],
   "source": [
    "rating = []\n",
    "category_id = -1\n",
    "helpfulness = -1\n",
    "\n",
    "for user_item_rating in user_item_ratings:\n",
    "  user_id = user_item_rating[0]\n",
    "  item_id = user_item_rating[1]\n",
    "  r = user_item_rating[2]\n",
    "  rating.append([user_id, item_id, category_id, r, helpfulness])\n",
    "\n",
    "rating = np.array(rating, dtype=int)"
   ],
   "metadata": {
    "collapsed": false,
    "pycharm": {
     "name": "#%%\n"
    }
   }
  },
  {
   "cell_type": "code",
   "execution_count": 205,
   "outputs": [
    {
     "data": {
      "text/plain": "array([[     0,      0,     -1,      4,     -1],\n       [     0,      1,     -1,      4,     -1],\n       [     0,      2,     -1,      4,     -1],\n       ...,\n       [  3305, 242639,     -1,      0,     -1],\n       [  3306, 144876,     -1,      4,     -1],\n       [  3306, 144908,     -1,      2,     -1]])"
     },
     "execution_count": 205,
     "metadata": {},
     "output_type": "execute_result"
    }
   ],
   "source": [
    "rating"
   ],
   "metadata": {
    "collapsed": false,
    "pycharm": {
     "name": "#%%\n"
    }
   }
  },
  {
   "cell_type": "code",
   "execution_count": 208,
   "outputs": [],
   "source": [
    "scio.savemat('data/lastfm/trustnetwork.mat', {'trustnetwork':trustnetwork})\n",
    "scio.savemat('data/lastfm/rating.mat', {'rating':rating})"
   ],
   "metadata": {
    "collapsed": false,
    "pycharm": {
     "name": "#%%\n"
    }
   }
  },
  {
   "cell_type": "code",
   "execution_count": 211,
   "outputs": [],
   "source": [
    "lala = scio.loadmat('data/lastfm/rating.mat')"
   ],
   "metadata": {
    "collapsed": false,
    "pycharm": {
     "name": "#%%\n"
    }
   }
  },
  {
   "cell_type": "code",
   "execution_count": 210,
   "outputs": [
    {
     "data": {
      "text/plain": "{'__header__': b'MATLAB 5.0 MAT-file Platform: posix, Created on: Wed Oct  5 22:42:12 2022',\n '__version__': '1.0',\n '__globals__': [],\n 'rating': array([[     0,      0,     -1,      4,     -1],\n        [     0,      1,     -1,      4,     -1],\n        [     0,      2,     -1,      4,     -1],\n        ...,\n        [  3305, 242639,     -1,      0,     -1],\n        [  3306, 144876,     -1,      4,     -1],\n        [  3306, 144908,     -1,      2,     -1]])}"
     },
     "execution_count": 210,
     "metadata": {},
     "output_type": "execute_result"
    }
   ],
   "source": [
    "lala"
   ],
   "metadata": {
    "collapsed": false,
    "pycharm": {
     "name": "#%%\n"
    }
   }
  },
  {
   "cell_type": "code",
   "execution_count": null,
   "outputs": [],
   "source": [
    "ff = lala['rating'].tolist()"
   ],
   "metadata": {
    "collapsed": false,
    "pycharm": {
     "name": "#%%\n",
     "is_executing": true
    }
   }
  },
  {
   "cell_type": "code",
   "execution_count": 218,
   "outputs": [
    {
     "data": {
      "text/plain": "{'__header__': b'MATLAB 5.0 MAT-file Platform: posix, Created on: Wed Oct  5 22:42:12 2022',\n '__version__': '1.0',\n '__globals__': [],\n 'rating': array([[     0,      0,     -1,      4,     -1],\n        [     0,      1,     -1,      4,     -1],\n        [     0,      2,     -1,      4,     -1],\n        ...,\n        [  3305, 242639,     -1,      0,     -1],\n        [  3306, 144876,     -1,      4,     -1],\n        [  3306, 144908,     -1,      2,     -1]])}"
     },
     "execution_count": 217,
     "metadata": {},
     "output_type": "execute_result"
    },
    {
     "data": {
      "text/plain": "{'__header__': b'MATLAB 5.0 MAT-file Platform: posix, Created on: Wed Oct  5 22:42:12 2022',\n '__version__': '1.0',\n '__globals__': [],\n 'rating': array([[     0,      0,     -1,      4,     -1],\n        [     0,      1,     -1,      4,     -1],\n        [     0,      2,     -1,      4,     -1],\n        ...,\n        [  3305, 242639,     -1,      0,     -1],\n        [  3306, 144876,     -1,      4,     -1],\n        [  3306, 144908,     -1,      2,     -1]])}"
     },
     "execution_count": 218,
     "metadata": {},
     "output_type": "execute_result"
    }
   ],
   "source": [
    "ff[0]"
   ],
   "metadata": {
    "collapsed": false,
    "pycharm": {
     "name": "#%%\n"
    }
   }
  },
  {
   "cell_type": "code",
   "execution_count": 3,
   "outputs": [],
   "source": [
    "import pickle\n",
    "path_data = './data/' + 'lastfm' + '/' + 'lastfm' + '_sixty' + '.pkl'\n",
    "data_file = open(path_data, 'rb')\n",
    "\n",
    "history_u_lists, history_ur_lists, history_v_lists, history_vr_lists, traindata, validdata, testdata, \\\n",
    "social_adj_lists, item_adj_lists, ratings_list = pickle.load(data_file)"
   ],
   "metadata": {
    "collapsed": false,
    "pycharm": {
     "name": "#%%\n"
    }
   }
  },
  {
   "cell_type": "code",
   "execution_count": 5,
   "outputs": [],
   "source": [
    "ratings = traindata + validdata + testdata"
   ],
   "metadata": {
    "collapsed": false,
    "pycharm": {
     "name": "#%%\n"
    }
   }
  },
  {
   "cell_type": "code",
   "execution_count": 6,
   "outputs": [
    {
     "data": {
      "text/plain": "3013693"
     },
     "execution_count": 6,
     "metadata": {},
     "output_type": "execute_result"
    }
   ],
   "source": [
    "len(ratings)"
   ],
   "metadata": {
    "collapsed": false,
    "pycharm": {
     "name": "#%%\n"
    }
   }
  },
  {
   "cell_type": "code",
   "execution_count": 7,
   "outputs": [],
   "source": [
    "users = []\n",
    "items = []\n",
    "for entry in ratings:\n",
    "    user = entry[0]\n",
    "    item = entry[1]\n",
    "    users.append(user)\n",
    "    items.append(item)"
   ],
   "metadata": {
    "collapsed": false,
    "pycharm": {
     "name": "#%%\n"
    }
   }
  },
  {
   "cell_type": "code",
   "execution_count": 16,
   "outputs": [],
   "source": [
    "import networkx as nx\n",
    "G = nx.Graph()\n",
    "for source in social_adj_lists:\n",
    "    for target in list(social_adj_lists[source]):\n",
    "        users.append(source)\n",
    "        users.append(target)\n",
    "        G.add_edge(source, target)"
   ],
   "metadata": {
    "collapsed": false,
    "pycharm": {
     "name": "#%%\n"
    }
   }
  },
  {
   "cell_type": "code",
   "execution_count": 11,
   "outputs": [
    {
     "data": {
      "text/plain": "set"
     },
     "execution_count": 11,
     "metadata": {},
     "output_type": "execute_result"
    }
   ],
   "source": [
    "type(social_adj_lists[0])"
   ],
   "metadata": {
    "collapsed": false,
    "pycharm": {
     "name": "#%%\n"
    }
   }
  },
  {
   "cell_type": "code",
   "execution_count": 14,
   "outputs": [
    {
     "data": {
      "text/plain": "3302"
     },
     "execution_count": 14,
     "metadata": {},
     "output_type": "execute_result"
    }
   ],
   "source": [
    "len(set(users))"
   ],
   "metadata": {
    "collapsed": false,
    "pycharm": {
     "name": "#%%\n"
    }
   }
  },
  {
   "cell_type": "code",
   "execution_count": 15,
   "outputs": [
    {
     "data": {
      "text/plain": "252009"
     },
     "execution_count": 15,
     "metadata": {},
     "output_type": "execute_result"
    }
   ],
   "source": [
    "len(set(items))"
   ],
   "metadata": {
    "collapsed": false,
    "pycharm": {
     "name": "#%%\n"
    }
   }
  },
  {
   "cell_type": "code",
   "execution_count": 17,
   "outputs": [
    {
     "data": {
      "text/plain": "142919"
     },
     "execution_count": 17,
     "metadata": {},
     "output_type": "execute_result"
    }
   ],
   "source": [
    "len(G.edges)"
   ],
   "metadata": {
    "collapsed": false,
    "pycharm": {
     "name": "#%%\n"
    }
   }
  },
  {
   "cell_type": "code",
   "execution_count": null,
   "outputs": [],
   "source": [],
   "metadata": {
    "collapsed": false,
    "pycharm": {
     "name": "#%%\n"
    }
   }
  }
 ],
 "metadata": {
  "kernelspec": {
   "display_name": "Python 3",
   "language": "python",
   "name": "python3"
  },
  "language_info": {
   "codemirror_mode": {
    "name": "ipython",
    "version": 2
   },
   "file_extension": ".py",
   "mimetype": "text/x-python",
   "name": "python",
   "nbconvert_exporter": "python",
   "pygments_lexer": "ipython2",
   "version": "2.7.6"
  }
 },
 "nbformat": 4,
 "nbformat_minor": 0
}